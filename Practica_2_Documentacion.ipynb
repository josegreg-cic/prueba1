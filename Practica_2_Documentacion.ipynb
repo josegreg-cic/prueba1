{
 "cells": [
  {
   "cell_type": "code",
   "execution_count": 19,
   "metadata": {},
   "outputs": [
    {
     "name": "stdout",
     "output_type": "stream",
     "text": [
      "Líneas con entradas diferentes a 5: 10540\n",
      " Líneas de noticias en la lista 244436\n"
     ]
    }
   ],
   "source": [
    "#Leer el archivo \"TodasLasNoticias.csv\" y pasarlo a un archivo JSON\n",
    "#El objeto contendrá una lista con un diccionario por cada posición, \n",
    "#donde cada diccionario tendrá cinco llaves:\n",
    "#I Fecha\n",
    "#II Título\n",
    "#III url\n",
    "#IV Descripción\n",
    "#V Categoría\n",
    "\n",
    "#Importamos modulos #\n",
    "#==========================================================#\n",
    "from flask import Flask, jsonify, request, Response\n",
    "import json\n",
    "import csv\n",
    "\n",
    "#Leemos el archivo csv, con encoding utf 8\n",
    "#==========================================================#\n",
    "with open('.\\TodasLasNoticias.csv','r', encoding = 'utf-8') as outfile1:\n",
    "    fileReader = csv.reader(outfile1, delimiter=',', quotechar = '\"' )\n",
    "    \n",
    "    \n",
    "# Mostramos, que no todas las noticias tienen el formato deseado\n",
    "\n",
    "    count = 0\n",
    "    count_lineas = 0\n",
    "    for row in fileReader:\n",
    "        count_lineas +=1\n",
    "        if len(row)!=5:\n",
    "            count +=1\n",
    "            \n",
    "\n",
    "print(\"Líneas con entradas diferentes a 5: %d\\n Líneas de noticias en la lista %d\" % (count, count_lineas ))\n",
    "    \n",
    "\n",
    "# Iniciando la lista que tendra todas las noticias  (diccionario)  \n",
    "#===========================================================#\n",
    "obj_noticias = []\n",
    "\n",
    "# Tenemos que darle un tratamiento o ingresar los elementos de la lista\n",
    "# dependiendo de su longitud\n",
    "#=================================================================="
   ]
  },
  {
   "cell_type": "code",
   "execution_count": 20,
   "metadata": {},
   "outputs": [
    {
     "name": "stdout",
     "output_type": "stream",
     "text": [
      "243945\n"
     ]
    }
   ],
   "source": [
    "#Leemos el archivo csv, con encoding utf 8\n",
    "#========================================================================================#\n",
    "\n",
    "with open('.\\TodasLasNoticias.csv','r', encoding = 'utf-8') as outfile1:\n",
    "    fileReader = csv.reader(outfile1, delimiter=',', quotechar = '\"' )\n",
    "    \n",
    "# Damos un tratamiento a algunos registros de noticias\n",
    "#========================================================================================#\n",
    "    for linea in fileReader:\n",
    "        if len(linea) ==5:\n",
    "            obj_noticias.append({\n",
    "                'Fecha'       : str(linea[0]),\n",
    "                'Titulo'      : str(linea[1]),\n",
    "                'url'         : str(linea[2]),\n",
    "                'Descripcion' : str(linea[3]),\n",
    "                'Categoria'   : str(linea[4])\n",
    "            })\n",
    "        elif len(linea) == 4:\n",
    "            pedazo = len(linea[3].split(\"\\\",\"))  ## Patrón observado en  conjunto de noticias, en vez de tener 'a*', '*' se tenía \", \n",
    "            if pedazo == 2:\n",
    "                linea.append(linea[3].split(\"\\\",\")[1])\n",
    "    ### Hay un patron, en el que a la direccion le falta una coma y por tanto se le como el mismo elemento de la lista\n",
    "    \n",
    "            elif pedazo ==1 and linea[1].rfind(\"\\\",http\") != -1 :\n",
    "                swap = tuple(linea)\n",
    "                tupla = swap[1].split(\"\\\",\")\n",
    "                linea[0] = linea[0]\n",
    "                linea[1] = tupla[0]\n",
    "                linea[2] = tupla[1]\n",
    "                linea[3] = swap[2]\n",
    "                linea.append(swap[3])\n",
    "                obj_noticias.append({\n",
    "                    'Fecha'      : str(linea[0]),\n",
    "                    'Titulo'     : str(linea[1]),\n",
    "                    'url'        : str(linea[2]),\n",
    "                    'Descripcion': str(linea[3:-1]),\n",
    "                    'Categoria'  : str(linea[len(linea)-1])\n",
    "                })\n",
    "        elif len(linea)>5:\n",
    "                obj_noticias.append({\n",
    "                    'Fecha'      : str(linea[0]),\n",
    "                    'Titulo'     : str(linea[1]),\n",
    "                    'url'        : str(linea[2]),\n",
    "                    'Descripcion': str(linea[3:-1]),\n",
    "                    'Categoria'  : str(linea[len(linea) - 1])\n",
    "                })\n",
    "        elif len(linea) ==2:\n",
    "            if linea[(len(linea)-1)] in {'Coahuila', 'Durango', 'Nacional'}:\n",
    "                obj_noticias.append({\n",
    "                    'Fecha'      : str(\"\"),\n",
    "                    'Titulo'     : str(\"\"),\n",
    "                    'url'        : str(\"\"),\n",
    "                    'Descripcion': str(linea[0]),\n",
    "                    'Categoria'  : str(linea[len(linea) - 1])\n",
    "                })\n",
    "## Hay poemas y textos incompletos, no los metemos a la lista de noticias\n",
    "print(len(obj_noticias))\n"
   ]
  },
  {
   "cell_type": "code",
   "execution_count": 23,
   "metadata": {},
   "outputs": [
    {
     "name": "stdout",
     "output_type": "stream",
     "text": [
      "{'Fecha': '09/16/16', 'Titulo': 'Camioneta choca contra mototaxi en Motul y deja tres lesionados', 'url': 'http://yucatan.com.mx/yucatan/motul/camioneta-choca-mototaxi-motul-deja-tres-lesionados', 'Descripcion': 'MOTUL.- Por no respetar la señal de alto de disco, una camioneta colisionó a un mototaxi con saldo de tres personas lesionadas en céntrica calle de la ciudad de Motul. Camioneta choca contra mototaxi en Motul https://t.co/b8pKPgOS9k #Motul #Accidentes pic.twitter.com/yRjTAxI6cV &#8212; Diario de Yucatán (@DiariodeYucatan) September 14, 2016 La camioneta Toyota Hilux que circulaba sobre [&#8230;]', 'Categoria': 'Yucatan'}\n"
     ]
    }
   ],
   "source": [
    "## Verificamos que guardamos una lista de diccionarios\n",
    "print(obj_noticias[350])"
   ]
  },
  {
   "cell_type": "code",
   "execution_count": 21,
   "metadata": {},
   "outputs": [],
   "source": [
    "# Ya que tenemos nuestra lista de diccionarios, guardamos el objeto como un objeto JSON\n",
    "with open('noticias.json', 'w') as outfile:\n",
    "        json.dump(obj_noticias, outfile)"
   ]
  }
 ],
 "metadata": {
  "kernelspec": {
   "display_name": "Python 3",
   "language": "python",
   "name": "python3"
  },
  "language_info": {
   "codemirror_mode": {
    "name": "ipython",
    "version": 3
   },
   "file_extension": ".py",
   "mimetype": "text/x-python",
   "name": "python",
   "nbconvert_exporter": "python",
   "pygments_lexer": "ipython3",
   "version": "3.6.4"
  }
 },
 "nbformat": 4,
 "nbformat_minor": 2
}
